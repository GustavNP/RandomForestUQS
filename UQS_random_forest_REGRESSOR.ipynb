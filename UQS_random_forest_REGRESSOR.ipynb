{
 "cells": [
  {
   "cell_type": "markdown",
   "id": "be2037ce",
   "metadata": {},
   "source": [
    "Author: Gustav Nilsson Pedersen - s174562@student.dtu.dk"
   ]
  },
  {
   "cell_type": "code",
   "execution_count": 1,
   "id": "d73db982",
   "metadata": {
    "execution": {
     "iopub.execute_input": "2023-10-29T15:30:15.395789Z",
     "iopub.status.busy": "2023-10-29T15:30:15.395017Z",
     "iopub.status.idle": "2023-10-29T15:30:20.360544Z",
     "shell.execute_reply": "2023-10-29T15:30:20.359301Z"
    },
    "papermill": {
     "duration": 5.025706,
     "end_time": "2023-10-29T15:30:20.364419",
     "exception": false,
     "start_time": "2023-10-29T15:30:15.338713",
     "status": "completed"
    },
    "tags": []
   },
   "outputs": [],
   "source": [
    "import pandas as pd\n",
    "\n",
    "\n",
    "from sklearn.model_selection import  RandomizedSearchCV\n",
    "from sklearn.compose import ColumnTransformer\n",
    "from sklearn.preprocessing import StandardScaler\n",
    "from sklearn.pipeline import Pipeline\n",
    "from sklearn.impute import SimpleImputer\n",
    "from sklearn.ensemble import RandomForestRegressor\n",
    "\n",
    "import seaborn as sns\n",
    "import matplotlib.pyplot as plt\n",
    "\n",
    "\n",
    "import joblib"
   ]
  },
  {
   "cell_type": "markdown",
   "id": "cf49644c",
   "metadata": {},
   "source": [
    "### Read data set with UQS and CQMs"
   ]
  },
  {
   "cell_type": "code",
   "execution_count": null,
   "id": "9d1ae428",
   "metadata": {
    "execution": {
     "iopub.execute_input": "2023-10-29T15:30:20.474524Z",
     "iopub.status.busy": "2023-10-29T15:30:20.473830Z",
     "iopub.status.idle": "2023-10-29T15:30:20.563334Z",
     "shell.execute_reply": "2023-10-29T15:30:20.562052Z"
    },
    "papermill": {
     "duration": 0.147501,
     "end_time": "2023-10-29T15:30:20.566226",
     "exception": false,
     "start_time": "2023-10-29T15:30:20.418725",
     "status": "completed"
    },
    "tags": []
   },
   "outputs": [
    {
     "name": "stderr",
     "output_type": "stream",
     "text": [
      "C:\\Users\\admin\\AppData\\Local\\Temp\\ipykernel_14264\\3394963219.py:1: DtypeWarning: Columns (15,43) have mixed types. Specify dtype option on import or set low_memory=False.\n",
      "  full_dataset_df = pd.read_csv('C:\\\\Users\\\\admin\\\\Desktop\\\\VGGFace2-200k-all.csv', sep=';')\n"
     ]
    }
   ],
   "source": [
    "full_dataset_df = pd.read_csv('VGGFace2-200k-all.csv', sep=';')\n",
    "train_set_df = pd.read_csv('VGGFace200k-random-state-36-train_set-only-filenames.csv', sep=';')\n",
    "test_set_df = pd.read_csv('VGGFace200k-random-state-36-test_set-only-filenames.csv', sep=';')\n"
   ]
  },
  {
   "cell_type": "markdown",
   "id": "64a57e65",
   "metadata": {},
   "source": [
    "### Inspect data"
   ]
  },
  {
   "cell_type": "code",
   "execution_count": 3,
   "id": "ef668e4e",
   "metadata": {
    "execution": {
     "iopub.execute_input": "2023-10-29T15:30:20.889727Z",
     "iopub.status.busy": "2023-10-29T15:30:20.888627Z",
     "iopub.status.idle": "2023-10-29T15:30:21.035822Z",
     "shell.execute_reply": "2023-10-29T15:30:21.034627Z"
    },
    "papermill": {
     "duration": 0.205776,
     "end_time": "2023-10-29T15:30:21.038829",
     "exception": false,
     "start_time": "2023-10-29T15:30:20.833053",
     "status": "completed"
    },
    "tags": []
   },
   "outputs": [
    {
     "data": {
      "text/html": [
       "<div>\n",
       "<style scoped>\n",
       "    .dataframe tbody tr th:only-of-type {\n",
       "        vertical-align: middle;\n",
       "    }\n",
       "\n",
       "    .dataframe tbody tr th {\n",
       "        vertical-align: top;\n",
       "    }\n",
       "\n",
       "    .dataframe thead th {\n",
       "        text-align: right;\n",
       "    }\n",
       "</style>\n",
       "<table border=\"1\" class=\"dataframe\">\n",
       "  <thead>\n",
       "    <tr style=\"text-align: right;\">\n",
       "      <th></th>\n",
       "      <th>UnifiedQualityScore</th>\n",
       "      <th>BackgroundUniformity</th>\n",
       "      <th>IlluminationUniformity</th>\n",
       "      <th>LuminanceMean</th>\n",
       "      <th>LuminanceVariance</th>\n",
       "      <th>UnderExposurePrevention</th>\n",
       "      <th>OverExposurePrevention</th>\n",
       "      <th>DynamicRange</th>\n",
       "      <th>Sharpness</th>\n",
       "      <th>CompressionArtifacts</th>\n",
       "      <th>...</th>\n",
       "      <th>LeftwardCropOfTheFaceImage.scalar</th>\n",
       "      <th>RightwardCropOfTheFaceImage.scalar</th>\n",
       "      <th>MarginAboveOfTheFaceImage.scalar</th>\n",
       "      <th>MarginBelowOfTheFaceImage.scalar</th>\n",
       "      <th>HeadPoseYaw.scalar</th>\n",
       "      <th>HeadPosePitch.scalar</th>\n",
       "      <th>HeadPoseRoll.scalar</th>\n",
       "      <th>ExpressionNeutrality.scalar</th>\n",
       "      <th>NoHeadCoverings.scalar</th>\n",
       "      <th>Unnamed: 57</th>\n",
       "    </tr>\n",
       "  </thead>\n",
       "  <tbody>\n",
       "    <tr>\n",
       "      <th>count</th>\n",
       "      <td>197684.000000</td>\n",
       "      <td>197684.000000</td>\n",
       "      <td>197684.000000</td>\n",
       "      <td>197684.000000</td>\n",
       "      <td>197684.000000</td>\n",
       "      <td>195788.000000</td>\n",
       "      <td>195788.000000</td>\n",
       "      <td>197684.000000</td>\n",
       "      <td>197684.000000</td>\n",
       "      <td>197684.000000</td>\n",
       "      <td>...</td>\n",
       "      <td>197684.000000</td>\n",
       "      <td>197684.000000</td>\n",
       "      <td>197684.000000</td>\n",
       "      <td>197684.000000</td>\n",
       "      <td>197684.000000</td>\n",
       "      <td>197684.000000</td>\n",
       "      <td>197684.000000</td>\n",
       "      <td>197684.000000</td>\n",
       "      <td>197684.000000</td>\n",
       "      <td>0.0</td>\n",
       "    </tr>\n",
       "    <tr>\n",
       "      <th>mean</th>\n",
       "      <td>21.231196</td>\n",
       "      <td>80.664214</td>\n",
       "      <td>0.411592</td>\n",
       "      <td>0.262675</td>\n",
       "      <td>0.022222</td>\n",
       "      <td>0.211277</td>\n",
       "      <td>0.000570</td>\n",
       "      <td>6.779410</td>\n",
       "      <td>39.379429</td>\n",
       "      <td>0.838543</td>\n",
       "      <td>...</td>\n",
       "      <td>99.949283</td>\n",
       "      <td>99.952181</td>\n",
       "      <td>49.640062</td>\n",
       "      <td>47.061239</td>\n",
       "      <td>86.040292</td>\n",
       "      <td>95.182974</td>\n",
       "      <td>95.729143</td>\n",
       "      <td>46.441513</td>\n",
       "      <td>91.646405</td>\n",
       "      <td>NaN</td>\n",
       "    </tr>\n",
       "    <tr>\n",
       "      <th>std</th>\n",
       "      <td>3.933268</td>\n",
       "      <td>74.322003</td>\n",
       "      <td>0.218670</td>\n",
       "      <td>0.116430</td>\n",
       "      <td>0.016821</td>\n",
       "      <td>0.209541</td>\n",
       "      <td>0.008520</td>\n",
       "      <td>0.629621</td>\n",
       "      <td>18.780816</td>\n",
       "      <td>0.076957</td>\n",
       "      <td>...</td>\n",
       "      <td>2.101427</td>\n",
       "      <td>2.008245</td>\n",
       "      <td>33.027875</td>\n",
       "      <td>23.085901</td>\n",
       "      <td>20.928868</td>\n",
       "      <td>10.167331</td>\n",
       "      <td>10.403484</td>\n",
       "      <td>28.569081</td>\n",
       "      <td>24.834834</td>\n",
       "      <td>NaN</td>\n",
       "    </tr>\n",
       "    <tr>\n",
       "      <th>min</th>\n",
       "      <td>0.000000</td>\n",
       "      <td>0.000000</td>\n",
       "      <td>0.000000</td>\n",
       "      <td>0.000000</td>\n",
       "      <td>0.000000</td>\n",
       "      <td>0.000000</td>\n",
       "      <td>0.000000</td>\n",
       "      <td>0.000000</td>\n",
       "      <td>-50.000000</td>\n",
       "      <td>0.000000</td>\n",
       "      <td>...</td>\n",
       "      <td>-1.000000</td>\n",
       "      <td>-1.000000</td>\n",
       "      <td>-1.000000</td>\n",
       "      <td>-1.000000</td>\n",
       "      <td>-1.000000</td>\n",
       "      <td>-1.000000</td>\n",
       "      <td>-1.000000</td>\n",
       "      <td>-1.000000</td>\n",
       "      <td>-1.000000</td>\n",
       "      <td>NaN</td>\n",
       "    </tr>\n",
       "    <tr>\n",
       "      <th>25%</th>\n",
       "      <td>18.226044</td>\n",
       "      <td>28.511613</td>\n",
       "      <td>0.242798</td>\n",
       "      <td>0.176984</td>\n",
       "      <td>0.010652</td>\n",
       "      <td>0.059145</td>\n",
       "      <td>0.000000</td>\n",
       "      <td>6.488656</td>\n",
       "      <td>42.000000</td>\n",
       "      <td>0.795383</td>\n",
       "      <td>...</td>\n",
       "      <td>100.000000</td>\n",
       "      <td>100.000000</td>\n",
       "      <td>16.000000</td>\n",
       "      <td>31.000000</td>\n",
       "      <td>82.000000</td>\n",
       "      <td>95.000000</td>\n",
       "      <td>96.000000</td>\n",
       "      <td>19.000000</td>\n",
       "      <td>100.000000</td>\n",
       "      <td>NaN</td>\n",
       "    </tr>\n",
       "    <tr>\n",
       "      <th>50%</th>\n",
       "      <td>21.227950</td>\n",
       "      <td>61.484994</td>\n",
       "      <td>0.427597</td>\n",
       "      <td>0.252320</td>\n",
       "      <td>0.018125</td>\n",
       "      <td>0.133240</td>\n",
       "      <td>0.000000</td>\n",
       "      <td>6.900752</td>\n",
       "      <td>47.000000</td>\n",
       "      <td>0.858716</td>\n",
       "      <td>...</td>\n",
       "      <td>100.000000</td>\n",
       "      <td>100.000000</td>\n",
       "      <td>55.000000</td>\n",
       "      <td>49.000000</td>\n",
       "      <td>96.000000</td>\n",
       "      <td>98.000000</td>\n",
       "      <td>99.000000</td>\n",
       "      <td>41.000000</td>\n",
       "      <td>100.000000</td>\n",
       "      <td>NaN</td>\n",
       "    </tr>\n",
       "    <tr>\n",
       "      <th>75%</th>\n",
       "      <td>24.228010</td>\n",
       "      <td>110.766834</td>\n",
       "      <td>0.590830</td>\n",
       "      <td>0.336969</td>\n",
       "      <td>0.028969</td>\n",
       "      <td>0.296119</td>\n",
       "      <td>0.000000</td>\n",
       "      <td>7.209606</td>\n",
       "      <td>47.000000</td>\n",
       "      <td>0.895513</td>\n",
       "      <td>...</td>\n",
       "      <td>100.000000</td>\n",
       "      <td>100.000000</td>\n",
       "      <td>80.000000</td>\n",
       "      <td>64.000000</td>\n",
       "      <td>99.000000</td>\n",
       "      <td>100.000000</td>\n",
       "      <td>100.000000</td>\n",
       "      <td>72.000000</td>\n",
       "      <td>100.000000</td>\n",
       "      <td>NaN</td>\n",
       "    </tr>\n",
       "    <tr>\n",
       "      <th>max</th>\n",
       "      <td>35.189240</td>\n",
       "      <td>2056.000000</td>\n",
       "      <td>1.000000</td>\n",
       "      <td>0.868540</td>\n",
       "      <td>0.189381</td>\n",
       "      <td>1.000000</td>\n",
       "      <td>0.660669</td>\n",
       "      <td>7.960028</td>\n",
       "      <td>50.000000</td>\n",
       "      <td>0.997724</td>\n",
       "      <td>...</td>\n",
       "      <td>100.000000</td>\n",
       "      <td>100.000000</td>\n",
       "      <td>100.000000</td>\n",
       "      <td>100.000000</td>\n",
       "      <td>100.000000</td>\n",
       "      <td>100.000000</td>\n",
       "      <td>100.000000</td>\n",
       "      <td>99.000000</td>\n",
       "      <td>100.000000</td>\n",
       "      <td>NaN</td>\n",
       "    </tr>\n",
       "  </tbody>\n",
       "</table>\n",
       "<p>8 rows × 55 columns</p>\n",
       "</div>"
      ],
      "text/plain": [
       "       UnifiedQualityScore  BackgroundUniformity  IlluminationUniformity  \\\n",
       "count        197684.000000         197684.000000           197684.000000   \n",
       "mean             21.231196             80.664214                0.411592   \n",
       "std               3.933268             74.322003                0.218670   \n",
       "min               0.000000              0.000000                0.000000   \n",
       "25%              18.226044             28.511613                0.242798   \n",
       "50%              21.227950             61.484994                0.427597   \n",
       "75%              24.228010            110.766834                0.590830   \n",
       "max              35.189240           2056.000000                1.000000   \n",
       "\n",
       "       LuminanceMean  LuminanceVariance  UnderExposurePrevention  \\\n",
       "count  197684.000000      197684.000000            195788.000000   \n",
       "mean        0.262675           0.022222                 0.211277   \n",
       "std         0.116430           0.016821                 0.209541   \n",
       "min         0.000000           0.000000                 0.000000   \n",
       "25%         0.176984           0.010652                 0.059145   \n",
       "50%         0.252320           0.018125                 0.133240   \n",
       "75%         0.336969           0.028969                 0.296119   \n",
       "max         0.868540           0.189381                 1.000000   \n",
       "\n",
       "       OverExposurePrevention   DynamicRange      Sharpness  \\\n",
       "count           195788.000000  197684.000000  197684.000000   \n",
       "mean                 0.000570       6.779410      39.379429   \n",
       "std                  0.008520       0.629621      18.780816   \n",
       "min                  0.000000       0.000000     -50.000000   \n",
       "25%                  0.000000       6.488656      42.000000   \n",
       "50%                  0.000000       6.900752      47.000000   \n",
       "75%                  0.000000       7.209606      47.000000   \n",
       "max                  0.660669       7.960028      50.000000   \n",
       "\n",
       "       CompressionArtifacts  ...  LeftwardCropOfTheFaceImage.scalar  \\\n",
       "count         197684.000000  ...                      197684.000000   \n",
       "mean               0.838543  ...                          99.949283   \n",
       "std                0.076957  ...                           2.101427   \n",
       "min                0.000000  ...                          -1.000000   \n",
       "25%                0.795383  ...                         100.000000   \n",
       "50%                0.858716  ...                         100.000000   \n",
       "75%                0.895513  ...                         100.000000   \n",
       "max                0.997724  ...                         100.000000   \n",
       "\n",
       "       RightwardCropOfTheFaceImage.scalar  MarginAboveOfTheFaceImage.scalar  \\\n",
       "count                       197684.000000                     197684.000000   \n",
       "mean                            99.952181                         49.640062   \n",
       "std                              2.008245                         33.027875   \n",
       "min                             -1.000000                         -1.000000   \n",
       "25%                            100.000000                         16.000000   \n",
       "50%                            100.000000                         55.000000   \n",
       "75%                            100.000000                         80.000000   \n",
       "max                            100.000000                        100.000000   \n",
       "\n",
       "       MarginBelowOfTheFaceImage.scalar  HeadPoseYaw.scalar  \\\n",
       "count                     197684.000000       197684.000000   \n",
       "mean                          47.061239           86.040292   \n",
       "std                           23.085901           20.928868   \n",
       "min                           -1.000000           -1.000000   \n",
       "25%                           31.000000           82.000000   \n",
       "50%                           49.000000           96.000000   \n",
       "75%                           64.000000           99.000000   \n",
       "max                          100.000000          100.000000   \n",
       "\n",
       "       HeadPosePitch.scalar  HeadPoseRoll.scalar  ExpressionNeutrality.scalar  \\\n",
       "count         197684.000000        197684.000000                197684.000000   \n",
       "mean              95.182974            95.729143                    46.441513   \n",
       "std               10.167331            10.403484                    28.569081   \n",
       "min               -1.000000            -1.000000                    -1.000000   \n",
       "25%               95.000000            96.000000                    19.000000   \n",
       "50%               98.000000            99.000000                    41.000000   \n",
       "75%              100.000000           100.000000                    72.000000   \n",
       "max              100.000000           100.000000                    99.000000   \n",
       "\n",
       "       NoHeadCoverings.scalar  Unnamed: 57  \n",
       "count           197684.000000          0.0  \n",
       "mean                91.646405          NaN  \n",
       "std                 24.834834          NaN  \n",
       "min                 -1.000000          NaN  \n",
       "25%                100.000000          NaN  \n",
       "50%                100.000000          NaN  \n",
       "75%                100.000000          NaN  \n",
       "max                100.000000          NaN  \n",
       "\n",
       "[8 rows x 55 columns]"
      ]
     },
     "execution_count": 3,
     "metadata": {},
     "output_type": "execute_result"
    }
   ],
   "source": [
    "full_dataset_df.describe()"
   ]
  },
  {
   "cell_type": "code",
   "execution_count": 4,
   "id": "b3a92bbb",
   "metadata": {},
   "outputs": [
    {
     "data": {
      "text/plain": [
       "count    197684.000000\n",
       "mean         38.536331\n",
       "std          26.999586\n",
       "min          -1.000000\n",
       "25%          14.000000\n",
       "50%          34.000000\n",
       "75%          62.000000\n",
       "max          99.000000\n",
       "Name: UnifiedQualityScore.scalar, dtype: float64"
      ]
     },
     "execution_count": 4,
     "metadata": {},
     "output_type": "execute_result"
    }
   ],
   "source": [
    "full_dataset_df[\"UnifiedQualityScore.scalar\"].describe()"
   ]
  },
  {
   "cell_type": "code",
   "execution_count": 5,
   "id": "e8ce1928",
   "metadata": {
    "execution": {
     "iopub.execute_input": "2023-10-29T15:30:21.154101Z",
     "iopub.status.busy": "2023-10-29T15:30:21.153326Z",
     "iopub.status.idle": "2023-10-29T15:30:21.163974Z",
     "shell.execute_reply": "2023-10-29T15:30:21.162454Z"
    },
    "papermill": {
     "duration": 0.0704,
     "end_time": "2023-10-29T15:30:21.166875",
     "exception": false,
     "start_time": "2023-10-29T15:30:21.096475",
     "status": "completed"
    },
    "tags": []
   },
   "outputs": [
    {
     "data": {
      "text/plain": [
       "Filename                               object\n",
       "UnifiedQualityScore                   float64\n",
       "BackgroundUniformity                  float64\n",
       "IlluminationUniformity                float64\n",
       "LuminanceMean                         float64\n",
       "LuminanceVariance                     float64\n",
       "UnderExposurePrevention               float64\n",
       "OverExposurePrevention                float64\n",
       "DynamicRange                          float64\n",
       "Sharpness                               int64\n",
       "CompressionArtifacts                  float64\n",
       "NaturalColour                         float64\n",
       "SingleFacePresent                     float64\n",
       "EyesOpen                              float64\n",
       "MouthClosed                           float64\n",
       "EyesVisible                            object\n",
       "MouthOcclusionPrevention              float64\n",
       "FaceOcclusionPrevention               float64\n",
       "InterEyeDistance                      float64\n",
       "HeadSize                              float64\n",
       "LeftwardCropOfTheFaceImage            float64\n",
       "RightwardCropOfTheFaceImage           float64\n",
       "MarginAboveOfTheFaceImage             float64\n",
       "MarginBelowOfTheFaceImage             float64\n",
       "HeadPoseYaw                           float64\n",
       "HeadPosePitch                         float64\n",
       "HeadPoseRoll                          float64\n",
       "ExpressionNeutrality                  float64\n",
       "NoHeadCoverings                       float64\n",
       "UnifiedQualityScore.scalar              int64\n",
       "BackgroundUniformity.scalar             int64\n",
       "IlluminationUniformity.scalar           int64\n",
       "LuminanceMean.scalar                    int64\n",
       "LuminanceVariance.scalar                int64\n",
       "UnderExposurePrevention.scalar          int64\n",
       "OverExposurePrevention.scalar           int64\n",
       "DynamicRange.scalar                     int64\n",
       "Sharpness.scalar                        int64\n",
       "CompressionArtifacts.scalar             int64\n",
       "NaturalColour.scalar                    int64\n",
       "SingleFacePresent.scalar                int64\n",
       "EyesOpen.scalar                         int64\n",
       "MouthClosed.scalar                      int64\n",
       "EyesVisible.scalar                     object\n",
       "MouthOcclusionPrevention.scalar         int64\n",
       "FaceOcclusionPrevention.scalar          int64\n",
       "InterEyeDistance.scalar                 int64\n",
       "HeadSize.scalar                         int64\n",
       "LeftwardCropOfTheFaceImage.scalar       int64\n",
       "RightwardCropOfTheFaceImage.scalar      int64\n",
       "MarginAboveOfTheFaceImage.scalar        int64\n",
       "MarginBelowOfTheFaceImage.scalar        int64\n",
       "HeadPoseYaw.scalar                      int64\n",
       "HeadPosePitch.scalar                    int64\n",
       "HeadPoseRoll.scalar                     int64\n",
       "ExpressionNeutrality.scalar             int64\n",
       "NoHeadCoverings.scalar                  int64\n",
       "Unnamed: 57                           float64\n",
       "dtype: object"
      ]
     },
     "execution_count": 5,
     "metadata": {},
     "output_type": "execute_result"
    }
   ],
   "source": [
    "full_dataset_df.dtypes"
   ]
  },
  {
   "cell_type": "code",
   "execution_count": 6,
   "id": "8197ad21",
   "metadata": {},
   "outputs": [
    {
     "data": {
      "text/plain": [
       "count     197684\n",
       "unique       143\n",
       "top          100\n",
       "freq      134691\n",
       "Name: EyesVisible.scalar, dtype: object"
      ]
     },
     "execution_count": 6,
     "metadata": {},
     "output_type": "execute_result"
    }
   ],
   "source": [
    "full_dataset_df[\"EyesVisible.scalar\"].describe()"
   ]
  },
  {
   "cell_type": "code",
   "execution_count": 7,
   "id": "7c7b9ecb",
   "metadata": {},
   "outputs": [
    {
     "name": "stdout",
     "output_type": "stream",
     "text": [
      "813       -nan(ind)\n",
      "5943      -nan(ind)\n",
      "6210      -nan(ind)\n",
      "6293      -nan(ind)\n",
      "8913      -nan(ind)\n",
      "            ...    \n",
      "192979    -nan(ind)\n",
      "193426    -nan(ind)\n",
      "193610    -nan(ind)\n",
      "193715    -nan(ind)\n",
      "194407    -nan(ind)\n",
      "Name: EyesVisible, Length: 167, dtype: object\n"
     ]
    }
   ],
   "source": [
    "non_float_cells = full_dataset_df[full_dataset_df['EyesVisible'].apply(lambda x: x == '-nan(ind)')]\n",
    "\n",
    "print(non_float_cells[\"EyesVisible\"])\n",
    "\n",
    "def convert_nanind_to_0(value):\n",
    "    if value == '-nan(ind)':\n",
    "        return 0\n",
    "    else:\n",
    "        return value\n",
    "\n",
    "# Set EyesVisible.scalar score to the lowest value of 0\n",
    "full_dataset_df['EyesVisible.scalar'] = full_dataset_df['EyesVisible.scalar'].apply(lambda x: convert_nanind_to_0(x))\n",
    "full_dataset_df['EyesVisible.scalar'] = full_dataset_df['EyesVisible.scalar'].astype(int)\n",
    "\n"
   ]
  },
  {
   "cell_type": "code",
   "execution_count": 8,
   "id": "530915eb",
   "metadata": {},
   "outputs": [],
   "source": [
    "# test_missing"
   ]
  },
  {
   "cell_type": "code",
   "execution_count": 9,
   "id": "f1a2d0f3",
   "metadata": {
    "execution": {
     "iopub.execute_input": "2023-10-29T15:30:22.929084Z",
     "iopub.status.busy": "2023-10-29T15:30:22.928624Z",
     "iopub.status.idle": "2023-10-29T15:30:22.939467Z",
     "shell.execute_reply": "2023-10-29T15:30:22.938608Z"
    },
    "papermill": {
     "duration": 0.071972,
     "end_time": "2023-10-29T15:30:22.941810",
     "exception": false,
     "start_time": "2023-10-29T15:30:22.869838",
     "status": "completed"
    },
    "tags": []
   },
   "outputs": [],
   "source": [
    "# What is z-score exactly again?\n",
    "#stats.zscore(train_df['MarginBelowOfTheFaceImage']).sort_values().tail(10)"
   ]
  },
  {
   "cell_type": "code",
   "execution_count": 10,
   "id": "5888afae",
   "metadata": {
    "execution": {
     "iopub.execute_input": "2023-10-29T15:30:40.877414Z",
     "iopub.status.busy": "2023-10-29T15:30:40.877002Z",
     "iopub.status.idle": "2023-10-29T15:30:40.896271Z",
     "shell.execute_reply": "2023-10-29T15:30:40.895101Z"
    },
    "papermill": {
     "duration": 0.107643,
     "end_time": "2023-10-29T15:30:40.898601",
     "exception": false,
     "start_time": "2023-10-29T15:30:40.790958",
     "status": "completed"
    },
    "tags": []
   },
   "outputs": [
    {
     "data": {
      "text/html": [
       "<div>\n",
       "<style scoped>\n",
       "    .dataframe tbody tr th:only-of-type {\n",
       "        vertical-align: middle;\n",
       "    }\n",
       "\n",
       "    .dataframe tbody tr th {\n",
       "        vertical-align: top;\n",
       "    }\n",
       "\n",
       "    .dataframe thead th {\n",
       "        text-align: right;\n",
       "    }\n",
       "</style>\n",
       "<table border=\"1\" class=\"dataframe\">\n",
       "  <thead>\n",
       "    <tr style=\"text-align: right;\">\n",
       "      <th></th>\n",
       "      <th>0</th>\n",
       "    </tr>\n",
       "  </thead>\n",
       "  <tbody>\n",
       "    <tr>\n",
       "      <th>Unnamed: 57</th>\n",
       "      <td>197684</td>\n",
       "    </tr>\n",
       "    <tr>\n",
       "      <th>UnderExposurePrevention</th>\n",
       "      <td>1896</td>\n",
       "    </tr>\n",
       "    <tr>\n",
       "      <th>OverExposurePrevention</th>\n",
       "      <td>1896</td>\n",
       "    </tr>\n",
       "    <tr>\n",
       "      <th>InterEyeDistance</th>\n",
       "      <td>167</td>\n",
       "    </tr>\n",
       "    <tr>\n",
       "      <th>BackgroundUniformity</th>\n",
       "      <td>0</td>\n",
       "    </tr>\n",
       "    <tr>\n",
       "      <th>UnifiedQualityScore</th>\n",
       "      <td>0</td>\n",
       "    </tr>\n",
       "    <tr>\n",
       "      <th>LuminanceVariance</th>\n",
       "      <td>0</td>\n",
       "    </tr>\n",
       "    <tr>\n",
       "      <th>LuminanceMean</th>\n",
       "      <td>0</td>\n",
       "    </tr>\n",
       "    <tr>\n",
       "      <th>DynamicRange</th>\n",
       "      <td>0</td>\n",
       "    </tr>\n",
       "    <tr>\n",
       "      <th>Filename</th>\n",
       "      <td>0</td>\n",
       "    </tr>\n",
       "    <tr>\n",
       "      <th>Sharpness</th>\n",
       "      <td>0</td>\n",
       "    </tr>\n",
       "    <tr>\n",
       "      <th>CompressionArtifacts</th>\n",
       "      <td>0</td>\n",
       "    </tr>\n",
       "    <tr>\n",
       "      <th>SingleFacePresent</th>\n",
       "      <td>0</td>\n",
       "    </tr>\n",
       "    <tr>\n",
       "      <th>NaturalColour</th>\n",
       "      <td>0</td>\n",
       "    </tr>\n",
       "    <tr>\n",
       "      <th>MouthClosed</th>\n",
       "      <td>0</td>\n",
       "    </tr>\n",
       "    <tr>\n",
       "      <th>EyesVisible</th>\n",
       "      <td>0</td>\n",
       "    </tr>\n",
       "    <tr>\n",
       "      <th>MouthOcclusionPrevention</th>\n",
       "      <td>0</td>\n",
       "    </tr>\n",
       "    <tr>\n",
       "      <th>EyesOpen</th>\n",
       "      <td>0</td>\n",
       "    </tr>\n",
       "    <tr>\n",
       "      <th>FaceOcclusionPrevention</th>\n",
       "      <td>0</td>\n",
       "    </tr>\n",
       "    <tr>\n",
       "      <th>HeadSize</th>\n",
       "      <td>0</td>\n",
       "    </tr>\n",
       "    <tr>\n",
       "      <th>LeftwardCropOfTheFaceImage</th>\n",
       "      <td>0</td>\n",
       "    </tr>\n",
       "    <tr>\n",
       "      <th>RightwardCropOfTheFaceImage</th>\n",
       "      <td>0</td>\n",
       "    </tr>\n",
       "    <tr>\n",
       "      <th>MarginAboveOfTheFaceImage</th>\n",
       "      <td>0</td>\n",
       "    </tr>\n",
       "    <tr>\n",
       "      <th>MarginBelowOfTheFaceImage</th>\n",
       "      <td>0</td>\n",
       "    </tr>\n",
       "    <tr>\n",
       "      <th>HeadPoseYaw</th>\n",
       "      <td>0</td>\n",
       "    </tr>\n",
       "    <tr>\n",
       "      <th>IlluminationUniformity</th>\n",
       "      <td>0</td>\n",
       "    </tr>\n",
       "    <tr>\n",
       "      <th>HeadPosePitch</th>\n",
       "      <td>0</td>\n",
       "    </tr>\n",
       "    <tr>\n",
       "      <th>HeadPoseRoll</th>\n",
       "      <td>0</td>\n",
       "    </tr>\n",
       "    <tr>\n",
       "      <th>NoHeadCoverings</th>\n",
       "      <td>0</td>\n",
       "    </tr>\n",
       "    <tr>\n",
       "      <th>ExpressionNeutrality</th>\n",
       "      <td>0</td>\n",
       "    </tr>\n",
       "    <tr>\n",
       "      <th>BackgroundUniformity.scalar</th>\n",
       "      <td>0</td>\n",
       "    </tr>\n",
       "    <tr>\n",
       "      <th>IlluminationUniformity.scalar</th>\n",
       "      <td>0</td>\n",
       "    </tr>\n",
       "    <tr>\n",
       "      <th>LuminanceMean.scalar</th>\n",
       "      <td>0</td>\n",
       "    </tr>\n",
       "    <tr>\n",
       "      <th>UnifiedQualityScore.scalar</th>\n",
       "      <td>0</td>\n",
       "    </tr>\n",
       "    <tr>\n",
       "      <th>UnderExposurePrevention.scalar</th>\n",
       "      <td>0</td>\n",
       "    </tr>\n",
       "    <tr>\n",
       "      <th>OverExposurePrevention.scalar</th>\n",
       "      <td>0</td>\n",
       "    </tr>\n",
       "    <tr>\n",
       "      <th>DynamicRange.scalar</th>\n",
       "      <td>0</td>\n",
       "    </tr>\n",
       "    <tr>\n",
       "      <th>Sharpness.scalar</th>\n",
       "      <td>0</td>\n",
       "    </tr>\n",
       "    <tr>\n",
       "      <th>CompressionArtifacts.scalar</th>\n",
       "      <td>0</td>\n",
       "    </tr>\n",
       "    <tr>\n",
       "      <th>NaturalColour.scalar</th>\n",
       "      <td>0</td>\n",
       "    </tr>\n",
       "    <tr>\n",
       "      <th>SingleFacePresent.scalar</th>\n",
       "      <td>0</td>\n",
       "    </tr>\n",
       "    <tr>\n",
       "      <th>LuminanceVariance.scalar</th>\n",
       "      <td>0</td>\n",
       "    </tr>\n",
       "    <tr>\n",
       "      <th>EyesOpen.scalar</th>\n",
       "      <td>0</td>\n",
       "    </tr>\n",
       "    <tr>\n",
       "      <th>MouthClosed.scalar</th>\n",
       "      <td>0</td>\n",
       "    </tr>\n",
       "    <tr>\n",
       "      <th>MouthOcclusionPrevention.scalar</th>\n",
       "      <td>0</td>\n",
       "    </tr>\n",
       "    <tr>\n",
       "      <th>EyesVisible.scalar</th>\n",
       "      <td>0</td>\n",
       "    </tr>\n",
       "    <tr>\n",
       "      <th>InterEyeDistance.scalar</th>\n",
       "      <td>0</td>\n",
       "    </tr>\n",
       "    <tr>\n",
       "      <th>HeadSize.scalar</th>\n",
       "      <td>0</td>\n",
       "    </tr>\n",
       "    <tr>\n",
       "      <th>LeftwardCropOfTheFaceImage.scalar</th>\n",
       "      <td>0</td>\n",
       "    </tr>\n",
       "    <tr>\n",
       "      <th>FaceOcclusionPrevention.scalar</th>\n",
       "      <td>0</td>\n",
       "    </tr>\n",
       "    <tr>\n",
       "      <th>RightwardCropOfTheFaceImage.scalar</th>\n",
       "      <td>0</td>\n",
       "    </tr>\n",
       "    <tr>\n",
       "      <th>MarginAboveOfTheFaceImage.scalar</th>\n",
       "      <td>0</td>\n",
       "    </tr>\n",
       "    <tr>\n",
       "      <th>HeadPoseYaw.scalar</th>\n",
       "      <td>0</td>\n",
       "    </tr>\n",
       "    <tr>\n",
       "      <th>MarginBelowOfTheFaceImage.scalar</th>\n",
       "      <td>0</td>\n",
       "    </tr>\n",
       "    <tr>\n",
       "      <th>HeadPosePitch.scalar</th>\n",
       "      <td>0</td>\n",
       "    </tr>\n",
       "    <tr>\n",
       "      <th>HeadPoseRoll.scalar</th>\n",
       "      <td>0</td>\n",
       "    </tr>\n",
       "    <tr>\n",
       "      <th>ExpressionNeutrality.scalar</th>\n",
       "      <td>0</td>\n",
       "    </tr>\n",
       "    <tr>\n",
       "      <th>NoHeadCoverings.scalar</th>\n",
       "      <td>0</td>\n",
       "    </tr>\n",
       "  </tbody>\n",
       "</table>\n",
       "</div>"
      ],
      "text/plain": [
       "                                         0\n",
       "Unnamed: 57                         197684\n",
       "UnderExposurePrevention               1896\n",
       "OverExposurePrevention                1896\n",
       "InterEyeDistance                       167\n",
       "BackgroundUniformity                     0\n",
       "UnifiedQualityScore                      0\n",
       "LuminanceVariance                        0\n",
       "LuminanceMean                            0\n",
       "DynamicRange                             0\n",
       "Filename                                 0\n",
       "Sharpness                                0\n",
       "CompressionArtifacts                     0\n",
       "SingleFacePresent                        0\n",
       "NaturalColour                            0\n",
       "MouthClosed                              0\n",
       "EyesVisible                              0\n",
       "MouthOcclusionPrevention                 0\n",
       "EyesOpen                                 0\n",
       "FaceOcclusionPrevention                  0\n",
       "HeadSize                                 0\n",
       "LeftwardCropOfTheFaceImage               0\n",
       "RightwardCropOfTheFaceImage              0\n",
       "MarginAboveOfTheFaceImage                0\n",
       "MarginBelowOfTheFaceImage                0\n",
       "HeadPoseYaw                              0\n",
       "IlluminationUniformity                   0\n",
       "HeadPosePitch                            0\n",
       "HeadPoseRoll                             0\n",
       "NoHeadCoverings                          0\n",
       "ExpressionNeutrality                     0\n",
       "BackgroundUniformity.scalar              0\n",
       "IlluminationUniformity.scalar            0\n",
       "LuminanceMean.scalar                     0\n",
       "UnifiedQualityScore.scalar               0\n",
       "UnderExposurePrevention.scalar           0\n",
       "OverExposurePrevention.scalar            0\n",
       "DynamicRange.scalar                      0\n",
       "Sharpness.scalar                         0\n",
       "CompressionArtifacts.scalar              0\n",
       "NaturalColour.scalar                     0\n",
       "SingleFacePresent.scalar                 0\n",
       "LuminanceVariance.scalar                 0\n",
       "EyesOpen.scalar                          0\n",
       "MouthClosed.scalar                       0\n",
       "MouthOcclusionPrevention.scalar          0\n",
       "EyesVisible.scalar                       0\n",
       "InterEyeDistance.scalar                  0\n",
       "HeadSize.scalar                          0\n",
       "LeftwardCropOfTheFaceImage.scalar        0\n",
       "FaceOcclusionPrevention.scalar           0\n",
       "RightwardCropOfTheFaceImage.scalar       0\n",
       "MarginAboveOfTheFaceImage.scalar         0\n",
       "HeadPoseYaw.scalar                       0\n",
       "MarginBelowOfTheFaceImage.scalar         0\n",
       "HeadPosePitch.scalar                     0\n",
       "HeadPoseRoll.scalar                      0\n",
       "ExpressionNeutrality.scalar              0\n",
       "NoHeadCoverings.scalar                   0"
      ]
     },
     "execution_count": 10,
     "metadata": {},
     "output_type": "execute_result"
    }
   ],
   "source": [
    "pd.DataFrame(full_dataset_df.isnull().sum().sort_values(ascending=False))"
   ]
  },
  {
   "cell_type": "code",
   "execution_count": 11,
   "id": "a2a339d9",
   "metadata": {
    "execution": {
     "iopub.execute_input": "2023-10-29T15:30:41.071448Z",
     "iopub.status.busy": "2023-10-29T15:30:41.070717Z",
     "iopub.status.idle": "2023-10-29T15:30:41.080206Z",
     "shell.execute_reply": "2023-10-29T15:30:41.078976Z"
    },
    "papermill": {
     "duration": 0.098477,
     "end_time": "2023-10-29T15:30:41.082606",
     "exception": false,
     "start_time": "2023-10-29T15:30:40.984129",
     "status": "completed"
    },
    "tags": []
   },
   "outputs": [],
   "source": [
    "# print(train_df['EyesVisible.scalar'].unique())\n",
    "# train_df['EyesVisible.scalar'] = train_df['EyesVisible.scalar'].astype(str).astype(int)\n",
    "\n",
    "# print(train_df['EyesVisible.scalar'].unique())\n",
    "# Unique can help identify nan values \n",
    "#UnderExposurePrevention.scalar does not have nan but has -1. Maybe same with OverExposurePrevention, check.\n",
    "# Use .fillna to fill nan values"
   ]
  },
  {
   "cell_type": "markdown",
   "id": "41ca1140",
   "metadata": {},
   "source": [
    "## Remove native measures and scores"
   ]
  },
  {
   "cell_type": "code",
   "execution_count": 12,
   "id": "f5cc2c33",
   "metadata": {},
   "outputs": [],
   "source": [
    "# Save dataframe with filenames before dropping columns\n",
    "test_set_filenames_df = pd.DataFrame(data=test_set_df[\"Filename\"])\n",
    "\n",
    "\n"
   ]
  },
  {
   "cell_type": "code",
   "execution_count": 13,
   "id": "3c0680ff",
   "metadata": {
    "execution": {
     "iopub.execute_input": "2023-10-29T15:30:55.727968Z",
     "iopub.status.busy": "2023-10-29T15:30:55.727280Z",
     "iopub.status.idle": "2023-10-29T15:30:55.736320Z",
     "shell.execute_reply": "2023-10-29T15:30:55.735130Z"
    },
    "papermill": {
     "duration": 0.110329,
     "end_time": "2023-10-29T15:30:55.738987",
     "exception": false,
     "start_time": "2023-10-29T15:30:55.628658",
     "status": "completed"
    },
    "tags": []
   },
   "outputs": [],
   "source": [
    "# Predict scalar UQS based on scalar CQMs\n",
    "columns_to_drop = ['Filename', 'UnifiedQualityScore', 'BackgroundUniformity',\n",
    "       'IlluminationUniformity', 'LuminanceMean', 'LuminanceVariance',\n",
    "       'UnderExposurePrevention', 'OverExposurePrevention', 'DynamicRange',\n",
    "       'Sharpness', 'CompressionArtifacts', 'NaturalColour',\n",
    "       'SingleFacePresent', 'EyesOpen', 'MouthClosed', 'EyesVisible',\n",
    "       'MouthOcclusionPrevention', 'FaceOcclusionPrevention',\n",
    "       'InterEyeDistance', 'HeadSize', 'LeftwardCropOfTheFaceImage',\n",
    "       'RightwardCropOfTheFaceImage', 'MarginAboveOfTheFaceImage',\n",
    "       'MarginBelowOfTheFaceImage', 'HeadPoseYaw', 'HeadPosePitch',\n",
    "       'HeadPoseRoll', 'ExpressionNeutrality', 'NoHeadCoverings', 'Unnamed: 57']\n",
    "\n",
    "\n",
    "# Also drop CQMs that are not in landmarked region\n",
    "# columns_to_drop.append(['BackgroundUniformity.scalar', 'SingleFacePresent.scalar',\n",
    "#        'HeadSize.scalar', 'LeftwardCropOfTheFaceImage.scalar',\n",
    "#        'RightwardCropOfTheFaceImage.scalar', 'MarginAboveOfTheFaceImage.scalar',\n",
    "#        'MarginBelowOfTheFaceImage.scalar',  'NoHeadCoverings.scalar'])\n"
   ]
  },
  {
   "cell_type": "markdown",
   "id": "9408d084",
   "metadata": {},
   "source": [
    "In the box below, define which CQMs should be removed (for ablation)"
   ]
  },
  {
   "cell_type": "code",
   "execution_count": 14,
   "id": "77d4a33d",
   "metadata": {},
   "outputs": [],
   "source": [
    "ablation_name = \"All\"\n",
    "ablation_columns_to_drop = []\n",
    "\n",
    "\n",
    "# ablation_name = \"Top-24\"\n",
    "# ablation_columns_to_drop = [\n",
    "#     'MarginAboveOfTheFaceImage.scalar',\n",
    "#     'BackgroundUniformity.scalar',\n",
    "#     'ExpressionNeutrality.scalar'\n",
    "# ]\n",
    "\n",
    "\n",
    "\n",
    "# ablation_name = \"Top-20\"\n",
    "# ablation_columns_to_drop = [\n",
    "#     'HeadSize.scalar',\n",
    "#     'CompressionArtifacts.scalar',\n",
    "#     'RightwardCropOfTheFaceImage.scalar',\n",
    "#     'LeftwardCropOfTheFaceImage.scalar',\n",
    "#     'MarginAboveOfTheFaceImage.scalar',\n",
    "#     'BackgroundUniformity.scalar',\n",
    "#     'ExpressionNeutrality.scalar',\n",
    "# ]\n",
    "\n",
    "\n",
    "\n",
    "\n",
    "# ablation_name = \"Top-15\"\n",
    "# ablation_columns_to_drop = [\n",
    "#     'MouthClosed.scalar',\n",
    "#     'OverExposurePrevention.scalar',\n",
    "#     'NaturalColour.scalar',\n",
    "#     'MarginBelowOfTheFaceImage.scalar',\n",
    "#     'Sharpness.scalar',\n",
    "#     'HeadSize.scalar',\n",
    "#     'CompressionArtifacts.scalar',\n",
    "#     'RightwardCropOfTheFaceImage.scalar',\n",
    "#     'LeftwardCropOfTheFaceImage.scalar',\n",
    "#     'MarginAboveOfTheFaceImage.scalar',\n",
    "#     'BackgroundUniformity.scalar',\n",
    "#     'ExpressionNeutrality.scalar'\n",
    "# ]\n",
    "\n",
    "\n",
    "\n",
    "# ablation_name = \"Top-10\"\n",
    "# ablation_columns_to_drop = [\n",
    "#     'IlluminationUniformity.scalar',\n",
    "#     'UnderExposurePrevention.scalar',\n",
    "#     'NoHeadCoverings.scalar',\n",
    "#     'LuminanceVariance.scalar',\n",
    "#     'SingleFacePresent.scalar',\n",
    "#     'MouthClosed.scalar',\n",
    "#     'OverExposurePrevention.scalar',\n",
    "#     'NaturalColour.scalar',\n",
    "#     'MarginBelowOfTheFaceImage.scalar',\n",
    "#     'Sharpness.scalar',\n",
    "#     'HeadSize.scalar',\n",
    "#     'CompressionArtifacts.scalar',\n",
    "#     'RightwardCropOfTheFaceImage.scalar',\n",
    "#     'LeftwardCropOfTheFaceImage.scalar',\n",
    "#     'MarginAboveOfTheFaceImage.scalar',\n",
    "#     'BackgroundUniformity.scalar',\n",
    "#     'ExpressionNeutrality.scalar'\n",
    "# ]\n",
    "\n",
    "\n",
    "\n",
    "\n",
    "\n",
    "\n",
    "\n",
    "\n",
    "columns_to_drop = columns_to_drop + ablation_columns_to_drop\n",
    "\n",
    "\n",
    "# === CQMs ordered by pAUC from lowest to highest ===\n",
    "\n",
    "# 'FaceOcclusionPrevention.scalar',\n",
    "# 'EyesVisible.scalar',\n",
    "# 'HeadPoseYaw.scalar',\n",
    "# 'MouthOcclusionPrevention.scalar',\n",
    "# 'HeadPosePitch.scalar',\n",
    "# 'EyesOpen.scalar',\n",
    "# 'HeadPoseRoll.scalar',\n",
    "# 'InterEyeDistance.scalar',\n",
    "# 'DynamicRange.scalar',\n",
    "# 'LuminanceMean.scalar',\n",
    "# 'IlluminationUniformity.scalar',\n",
    "# 'UnderExposurePrevention.scalar',\n",
    "# 'NoHeadCoverings.scalar',\n",
    "# 'LuminanceVariance.scalar',\n",
    "# 'SingleFacePresent.scalar',\n",
    "# 'MouthClosed.scalar',\n",
    "# 'OverExposurePrevention.scalar',\n",
    "# 'NaturalColour.scalar',\n",
    "# 'MarginBelowOfTheFaceImage.scalar',\n",
    "# 'Sharpness.scalar',\n",
    "# 'HeadSize.scalar',\n",
    "# 'CompressionArtifacts.scalar',\n",
    "# 'RightwardCropOfTheFaceImage.scalar',\n",
    "# 'LeftwardCropOfTheFaceImage.scalar',\n",
    "# 'MarginAboveOfTheFaceImage.scalar',\n",
    "# 'BackgroundUniformity.scalar',\n",
    "# 'ExpressionNeutrality.scalar'\n"
   ]
  },
  {
   "cell_type": "code",
   "execution_count": 15,
   "id": "034f0e9d",
   "metadata": {},
   "outputs": [
    {
     "name": "stdout",
     "output_type": "stream",
     "text": [
      "['Filename', 'UnifiedQualityScore', 'BackgroundUniformity', 'IlluminationUniformity', 'LuminanceMean', 'LuminanceVariance', 'UnderExposurePrevention', 'OverExposurePrevention', 'DynamicRange', 'Sharpness', 'CompressionArtifacts', 'NaturalColour', 'SingleFacePresent', 'EyesOpen', 'MouthClosed', 'EyesVisible', 'MouthOcclusionPrevention', 'FaceOcclusionPrevention', 'InterEyeDistance', 'HeadSize', 'LeftwardCropOfTheFaceImage', 'RightwardCropOfTheFaceImage', 'MarginAboveOfTheFaceImage', 'MarginBelowOfTheFaceImage', 'HeadPoseYaw', 'HeadPosePitch', 'HeadPoseRoll', 'ExpressionNeutrality', 'NoHeadCoverings', 'Unnamed: 57']\n"
     ]
    }
   ],
   "source": [
    "print(columns_to_drop)\n",
    "full_dataset_df = full_dataset_df.drop(columns=columns_to_drop)\n",
    "train_set_df = train_set_df.drop(columns=columns_to_drop)\n",
    "test_set_df = test_set_df.drop(columns=columns_to_drop)\n"
   ]
  },
  {
   "cell_type": "markdown",
   "id": "fe0c25e5",
   "metadata": {},
   "source": [
    "## Feature engineering"
   ]
  },
  {
   "cell_type": "markdown",
   "id": "0c730d40",
   "metadata": {},
   "source": [
    "Various things have been tried. None of them seem to improve performance."
   ]
  },
  {
   "cell_type": "code",
   "execution_count": 16,
   "id": "4bc2ff70",
   "metadata": {
    "execution": {
     "iopub.execute_input": "2023-10-29T15:30:56.141481Z",
     "iopub.status.busy": "2023-10-29T15:30:56.141063Z",
     "iopub.status.idle": "2023-10-29T15:30:56.149896Z",
     "shell.execute_reply": "2023-10-29T15:30:56.147708Z"
    },
    "papermill": {
     "duration": 0.111914,
     "end_time": "2023-10-29T15:30:56.153218",
     "exception": false,
     "start_time": "2023-10-29T15:30:56.041304",
     "status": "completed"
    },
    "tags": []
   },
   "outputs": [],
   "source": [
    "# train_df['MeanCropScore'] = (train_df['LeftwardCropOfTheFaceImage'] + train_df['RightwardCropOfTheFaceImage']) / 2\n",
    "# train_df['MeanCropScore.scalar'] = (train_df['LeftwardCropOfTheFaceImage.scalar'] + train_df['RightwardCropOfTheFaceImage.scalar']) / 2"
   ]
  },
  {
   "cell_type": "code",
   "execution_count": 17,
   "id": "b7f4fb7b",
   "metadata": {},
   "outputs": [],
   "source": [
    "# train_df['MeanCropScore'].head(15)\n",
    "# train_df['MeanCropScore.scalar'].head(15)"
   ]
  },
  {
   "cell_type": "code",
   "execution_count": 18,
   "id": "4fa0e55e",
   "metadata": {},
   "outputs": [],
   "source": [
    "# train_df['MeanMarginScore'] = (train_df['MarginBelowOfTheFaceImage'] + train_df['MarginAboveOfTheFaceImage']) / 2\n",
    "# train_df['MeanMarginScore.scalar'] = (train_df['MarginBelowOfTheFaceImage.scalar'] + train_df['MarginAboveOfTheFaceImage.scalar']) / 2\n"
   ]
  },
  {
   "cell_type": "code",
   "execution_count": 19,
   "id": "bb41e12e",
   "metadata": {},
   "outputs": [],
   "source": [
    "# train_df['MeanMarginScore'].head(15)\n",
    "# train_df['MeanMarginScore.scalar'].head(15)"
   ]
  },
  {
   "cell_type": "markdown",
   "id": "304a8a16",
   "metadata": {},
   "source": [
    "## Check correlations and drop some correlated features"
   ]
  },
  {
   "cell_type": "code",
   "execution_count": 20,
   "id": "5b718b86",
   "metadata": {
    "execution": {
     "iopub.execute_input": "2023-10-29T15:30:57.632927Z",
     "iopub.status.busy": "2023-10-29T15:30:57.631694Z",
     "iopub.status.idle": "2023-10-29T15:31:00.113404Z",
     "shell.execute_reply": "2023-10-29T15:31:00.112452Z"
    },
    "papermill": {
     "duration": 2.586626,
     "end_time": "2023-10-29T15:31:00.117047",
     "exception": false,
     "start_time": "2023-10-29T15:30:57.530421",
     "status": "completed"
    },
    "tags": []
   },
   "outputs": [],
   "source": [
    "# correlations = full_dataset_df.corr()\n",
    "# plt.figure(figsize=(19,10))\n",
    "# sns.heatmap(correlations, annot=True, cmap='coolwarm', fmt=\".2f\")"
   ]
  },
  {
   "cell_type": "code",
   "execution_count": 21,
   "id": "a7082e8b",
   "metadata": {
    "execution": {
     "iopub.execute_input": "2023-10-29T15:31:00.549698Z",
     "iopub.status.busy": "2023-10-29T15:31:00.548934Z",
     "iopub.status.idle": "2023-10-29T15:31:00.558617Z",
     "shell.execute_reply": "2023-10-29T15:31:00.557369Z"
    },
    "papermill": {
     "duration": 0.118955,
     "end_time": "2023-10-29T15:31:00.561689",
     "exception": false,
     "start_time": "2023-10-29T15:31:00.442734",
     "status": "completed"
    },
    "tags": []
   },
   "outputs": [],
   "source": [
    "# FaceOcclusionPrevention or EyesVisible and MouthOcclusionPrevention?\n",
    "# Remove ExpressionNeutrality or the ones it correlates with?\n",
    "# train_df = train_df.drop(columns=['DynamicRange', 'HeadSize',\n",
    "#                                   'LeftwardCropOfTheFaceImage', 'RightwardCropOfTheFaceImage', \n",
    "#                                   'MarginAboveOfTheFaceImage', 'MarginBelowOfTheFaceImage'])\n",
    "# train_df = train_df.drop(columns=['DynamicRange.scalar', 'HeadSize.scalar',\n",
    "#                                   'LeftwardCropOfTheFaceImage.scalar', 'RightwardCropOfTheFaceImage.scalar', \n",
    "#                                   'MarginAboveOfTheFaceImage.scalar', 'MarginBelowOfTheFaceImage.scalar'])"
   ]
  },
  {
   "cell_type": "code",
   "execution_count": 22,
   "id": "1b9e029e",
   "metadata": {},
   "outputs": [],
   "source": [
    "# corr_after_drop = full_dataset_df.corr()\n",
    "# plt.figure(figsize=(19,10))\n",
    "# sns.heatmap(corr_after_drop, annot=True, cmap='coolwarm', fmt=\".2f\")"
   ]
  },
  {
   "cell_type": "markdown",
   "id": "c9f079f0",
   "metadata": {},
   "source": [
    "## UQS histogram"
   ]
  },
  {
   "cell_type": "code",
   "execution_count": 23,
   "id": "d8d0bb2e",
   "metadata": {
    "execution": {
     "iopub.execute_input": "2023-10-29T15:31:00.795113Z",
     "iopub.status.busy": "2023-10-29T15:31:00.794648Z",
     "iopub.status.idle": "2023-10-29T15:31:01.195720Z",
     "shell.execute_reply": "2023-10-29T15:31:01.194420Z"
    },
    "papermill": {
     "duration": 0.530147,
     "end_time": "2023-10-29T15:31:01.198948",
     "exception": false,
     "start_time": "2023-10-29T15:31:00.668801",
     "status": "completed"
    },
    "tags": []
   },
   "outputs": [
    {
     "data": {
      "text/plain": [
       "<Axes: xlabel='UnifiedQualityScore.scalar', ylabel='Count'>"
      ]
     },
     "execution_count": 23,
     "metadata": {},
     "output_type": "execute_result"
    },
    {
     "data": {
      "image/png": "[encoded data removed]",
      "text/plain": [
       "<Figure size 640x480 with 1 Axes>"
      ]
     },
     "metadata": {},
     "output_type": "display_data"
    }
   ],
   "source": [
    "sns.histplot(\n",
    "    full_dataset_df,\n",
    "    x=full_dataset_df['UnifiedQualityScore.scalar']\n",
    ")\n",
    "\n",
    "sns.histplot(\n",
    "    train_set_df,\n",
    "    x=train_set_df['UnifiedQualityScore.scalar']\n",
    ")\n",
    "\n",
    "\n",
    "sns.histplot(\n",
    "    test_set_df,\n",
    "    x=test_set_df['UnifiedQualityScore.scalar']\n",
    ")"
   ]
  },
  {
   "cell_type": "code",
   "execution_count": 257,
   "id": "80106c0c",
   "metadata": {
    "execution": {
     "iopub.execute_input": "2023-10-29T15:31:01.431286Z",
     "iopub.status.busy": "2023-10-29T15:31:01.430853Z",
     "iopub.status.idle": "2023-10-29T15:31:01.436863Z",
     "shell.execute_reply": "2023-10-29T15:31:01.435865Z"
    },
    "papermill": {
     "duration": 0.129292,
     "end_time": "2023-10-29T15:31:01.439419",
     "exception": false,
     "start_time": "2023-10-29T15:31:01.310127",
     "status": "completed"
    },
    "tags": []
   },
   "outputs": [],
   "source": []
  },
  {
   "cell_type": "code",
   "execution_count": 24,
   "id": "07881fdc",
   "metadata": {
    "execution": {
     "iopub.execute_input": "2023-10-29T15:31:03.179008Z",
     "iopub.status.busy": "2023-10-29T15:31:03.178547Z",
     "iopub.status.idle": "2023-10-29T15:31:03.186017Z",
     "shell.execute_reply": "2023-10-29T15:31:03.185042Z"
    },
    "papermill": {
     "duration": 0.118791,
     "end_time": "2023-10-29T15:31:03.188416",
     "exception": false,
     "start_time": "2023-10-29T15:31:03.069625",
     "status": "completed"
    },
    "tags": []
   },
   "outputs": [],
   "source": [
    "column_names = full_dataset_df.select_dtypes(include=['int64', 'float64']).columns\n",
    "\n",
    "column_names = column_names.drop('UnifiedQualityScore.scalar')"
   ]
  },
  {
   "cell_type": "code",
   "execution_count": 25,
   "id": "18433f9e",
   "metadata": {
    "execution": {
     "iopub.execute_input": "2023-10-29T15:31:03.404089Z",
     "iopub.status.busy": "2023-10-29T15:31:03.403533Z",
     "iopub.status.idle": "2023-10-29T15:31:03.409204Z",
     "shell.execute_reply": "2023-10-29T15:31:03.407740Z"
    },
    "papermill": {
     "duration": 0.118012,
     "end_time": "2023-10-29T15:31:03.411907",
     "exception": false,
     "start_time": "2023-10-29T15:31:03.293895",
     "status": "completed"
    },
    "tags": []
   },
   "outputs": [],
   "source": [
    "# Impute to fill missing values. Might not be necessary...\n",
    "impute_and_scale_pipeline = Pipeline(steps=[\n",
    "    ('impute', SimpleImputer(strategy='mean')),\n",
    "    ('scaler', StandardScaler())\n",
    "])"
   ]
  },
  {
   "cell_type": "code",
   "execution_count": 26,
   "id": "1c1f4296",
   "metadata": {
    "execution": {
     "iopub.execute_input": "2023-10-29T15:31:04.070843Z",
     "iopub.status.busy": "2023-10-29T15:31:04.070397Z",
     "iopub.status.idle": "2023-10-29T15:31:04.076372Z",
     "shell.execute_reply": "2023-10-29T15:31:04.074872Z"
    },
    "papermill": {
     "duration": 0.117803,
     "end_time": "2023-10-29T15:31:04.079057",
     "exception": false,
     "start_time": "2023-10-29T15:31:03.961254",
     "status": "completed"
    },
    "tags": []
   },
   "outputs": [],
   "source": [
    "columns_transformed = ColumnTransformer(transformers=[\n",
    "    ('num_p', impute_and_scale_pipeline, column_names)\n",
    "    ],\n",
    "    remainder='passthrough', \n",
    "    n_jobs=-1)"
   ]
  },
  {
   "cell_type": "code",
   "execution_count": 27,
   "id": "57c24b9d",
   "metadata": {
    "execution": {
     "iopub.execute_input": "2023-10-29T15:31:04.294372Z",
     "iopub.status.busy": "2023-10-29T15:31:04.293529Z",
     "iopub.status.idle": "2023-10-29T15:31:04.298747Z",
     "shell.execute_reply": "2023-10-29T15:31:04.297853Z"
    },
    "papermill": {
     "duration": 0.116526,
     "end_time": "2023-10-29T15:31:04.301226",
     "exception": false,
     "start_time": "2023-10-29T15:31:04.184700",
     "status": "completed"
    },
    "tags": []
   },
   "outputs": [],
   "source": [
    "preprocess_pipeline = Pipeline(steps=[\n",
    "    ('preprocessing', columns_transformed)\n",
    "])"
   ]
  },
  {
   "cell_type": "code",
   "execution_count": 28,
   "id": "9ae13bbb",
   "metadata": {
    "execution": {
     "iopub.execute_input": "2023-10-29T15:31:04.514470Z",
     "iopub.status.busy": "2023-10-29T15:31:04.514090Z",
     "iopub.status.idle": "2023-10-29T15:31:04.521701Z",
     "shell.execute_reply": "2023-10-29T15:31:04.520699Z"
    },
    "papermill": {
     "duration": 0.116644,
     "end_time": "2023-10-29T15:31:04.524375",
     "exception": false,
     "start_time": "2023-10-29T15:31:04.407731",
     "status": "completed"
    },
    "tags": []
   },
   "outputs": [],
   "source": [
    "\n",
    "\n",
    "X_train_not_preprocessed = train_set_df.drop('UnifiedQualityScore.scalar', axis=1)\n",
    "y_train = train_set_df['UnifiedQualityScore.scalar']\n",
    "X_test_not_preprocessed = test_set_df.drop('UnifiedQualityScore.scalar', axis=1)\n",
    "y_test = test_set_df['UnifiedQualityScore.scalar']\n",
    "\n"
   ]
  },
  {
   "cell_type": "code",
   "execution_count": 29,
   "id": "33a308e3",
   "metadata": {},
   "outputs": [],
   "source": [
    "X_train = preprocess_pipeline.fit_transform(X_train_not_preprocessed)\n",
    "X_test = preprocess_pipeline.fit_transform(X_test_not_preprocessed)\n"
   ]
  },
  {
   "cell_type": "code",
   "execution_count": 30,
   "id": "31c5f234",
   "metadata": {
    "execution": {
     "iopub.execute_input": "2023-10-29T15:31:08.597056Z",
     "iopub.status.busy": "2023-10-29T15:31:08.596226Z",
     "iopub.status.idle": "2023-10-29T15:31:08.601831Z",
     "shell.execute_reply": "2023-10-29T15:31:08.600986Z"
    },
    "papermill": {
     "duration": 0.116965,
     "end_time": "2023-10-29T15:31:08.604423",
     "exception": false,
     "start_time": "2023-10-29T15:31:08.487458",
     "status": "completed"
    },
    "tags": []
   },
   "outputs": [],
   "source": [
    "random_forest_regressor = RandomForestRegressor(random_state=36)"
   ]
  },
  {
   "cell_type": "code",
   "execution_count": 31,
   "id": "bedf7b15",
   "metadata": {},
   "outputs": [],
   "source": [
    "# Create grid for RandomSearchCV\n",
    "\n",
    "# For running multiple randomized search grids. So some can be very specific with only one possible set of parameters, and the model for that option will be saved,\n",
    "# and the predicted UQS using that model will be saved\n",
    "randomized_search_grids_dictionary = {} # Structure: Level 1 - Name of randomized search grid,    Level 2 - randomized search grid\n",
    "\n",
    "\n",
    "# See randomized-search-settings-RFR.txt for more settings used\n",
    "\n",
    "# === SPECIFIC FINAL 4 ===\n",
    "# Results:\n",
    "n_estimators = [200] \n",
    "max_depth = [30]\n",
    "max_features = [\"sqrt\"]\n",
    "min_samples_leaf = [2]\n",
    "min_samples_split = [4]\n",
    "bootstrap = [False]\n",
    "\n",
    "randomized_search_grid = {'n_estimators': n_estimators,\n",
    "               'max_depth': max_depth,\n",
    "               'max_features': max_features,\n",
    "               'min_samples_leaf': min_samples_leaf,\n",
    "               'min_samples_split': min_samples_split,\n",
    "               'bootstrap': bootstrap}\n",
    "randomized_search_grids_dictionary[\"SPECIFIC_FINAL_4\"] = randomized_search_grid\n",
    "\n",
    "\n",
    "\n",
    "\n"
   ]
  },
  {
   "cell_type": "code",
   "execution_count": 32,
   "id": "36754017",
   "metadata": {},
   "outputs": [
    {
     "data": {
      "text/plain": [
       "{'SPECIFIC_FINAL_4': {'n_estimators': [200],\n",
       "  'max_depth': [30],\n",
       "  'max_features': ['sqrt'],\n",
       "  'min_samples_leaf': [2],\n",
       "  'min_samples_split': [4],\n",
       "  'bootstrap': [False]}}"
      ]
     },
     "execution_count": 32,
     "metadata": {},
     "output_type": "execute_result"
    }
   ],
   "source": [
    "randomized_search_grids_dictionary"
   ]
  },
  {
   "cell_type": "code",
   "execution_count": 33,
   "id": "918bd9f9",
   "metadata": {},
   "outputs": [],
   "source": [
    "def search_grid_and_save_model_and_results(randomized_search_grid, random_forest_regressor, X_train, y_train, cv_folds, model_name, ablation_name): \n",
    "    random_forest_cross_val = RandomizedSearchCV(estimator = random_forest_regressor, \n",
    "                                             param_distributions = randomized_search_grid,\n",
    "                                             n_iter = 30,\n",
    "                                             cv = cv_folds,\n",
    "                                             verbose=3,\n",
    "                                             random_state=36,\n",
    "                                             n_jobs = -1)\n",
    "    \n",
    "    random_forest_cross_val.fit(X_train, y_train)\n",
    "    \n",
    "    results_of_randomized_search_cv = pd.DataFrame(random_forest_cross_val.cv_results_)\n",
    "    results_of_randomized_search_cv.to_csv(f\"./results_of_RandomizedSearchCVs/results_of_randomized_search_cv-RFR-{model_name}-{ablation_name}.csv\", sep=';')\n",
    "\n",
    "    model_filepath = f\"./models/RFR_UQS_scalar_to_scalar_{model_name}-{ablation_name}_VGGFace-200k.pkl\"\n",
    "    joblib.dump(random_forest_cross_val, model_filepath)\n",
    "\n",
    "    return random_forest_cross_val\n",
    "\n",
    "    "
   ]
  },
  {
   "cell_type": "code",
   "execution_count": 34,
   "id": "4987f6fc",
   "metadata": {},
   "outputs": [],
   "source": [
    "def predict_UQS_and_save(model, X_test_set, model_name, filenames_df, ablation_name):\n",
    "    y_predicted = model.predict(X_test_set)\n",
    "    y_predicted_df = pd.DataFrame(y_predicted)\n",
    "    y_predicted_df.columns = [\"UQS\"]\n",
    "    y_predicted_df[\"UQS\"] = y_predicted_df[\"UQS\"].apply(lambda x: round(x))\n",
    "    print(len(y_predicted_df))\n",
    "    filename_and_predicted_UQS_Test_set = pd.concat([filenames_df, y_predicted_df], axis=1, join = 'outer', ignore_index=False, sort=False)\n",
    "    print(filename_and_predicted_UQS_Test_set)\n",
    "    filename_and_predicted_UQS_Test_set[[\"Filename\", \"UQS\"]].to_csv(f'./predicted_UQS_files/Predicted-UQS-RFR-{model_name}-{ablation_name}-Test_set-VGGFace200k.csv', index=False, sep=';')"
   ]
  },
  {
   "cell_type": "code",
   "execution_count": 35,
   "id": "5e2dfa6e",
   "metadata": {},
   "outputs": [],
   "source": [
    "def evaluate_model(model, X_test, y_test, model_name, ablation_name):\n",
    "    score = model.score(X_test, y_test)\n",
    "    score_df = pd.DataFrame(data=[score])\n",
    "    score_df.columns = [\"R2Score\"]\n",
    "    score_df.to_csv(f\"RFR-evaluations/RFR-evaluation-{model_name}-{ablation_name}.csv\", sep=';', index=False)\n",
    "    "
   ]
  },
  {
   "cell_type": "code",
   "execution_count": 36,
   "id": "d63788ee",
   "metadata": {},
   "outputs": [],
   "source": [
    "def plot_feature_importance(feature_importances_df, filepath_png, setting_name, ablation_name, threshold = None):\n",
    "    fig, ax = plt.subplots()\n",
    "    fig.set_figwidth(12)\n",
    "    fig.set_figheight(6)\n",
    "    plt.subplots_adjust(bottom=0.4) # get labels to not be cut off\n",
    "    ax.bar(feature_importances_df[\"feature\"], feature_importances_df[\"feature_importance\"])\n",
    "    plt.xticks(rotation=45, ha='right')\n",
    "    ax.set_ylabel('Feature importance')\n",
    "    ax.set_title(f'Feature importances for RFR-{setting_name}-{ablation_name}')\n",
    "    plt.savefig(filepath_png)\n",
    "    plt.clf()\n",
    "\n",
    "\n",
    "    \n"
   ]
  },
  {
   "cell_type": "code",
   "execution_count": 37,
   "id": "04d1f567",
   "metadata": {},
   "outputs": [],
   "source": [
    "def save_feature_importances(model, feature_names, setting_name, ablation_name):\n",
    "    feature_importances_df = pd.DataFrame.from_dict({'feature_importance': model.feature_importances_, 'feature': feature_names})\n",
    "    feature_importances_df = feature_importances_df.sort_values('feature_importance', ascending = False)\n",
    "    filepath_csv = f\"feature_importances/RFR-{ablation_name}/RFR-feature-importances-{setting_name}-{ablation_name}.csv\"\n",
    "    filepath_png = filepath_csv.replace(\"csv\", \"png\")\n",
    "    feature_importances_df.to_csv(filepath_csv, sep=';', index=False)\n",
    "    plot_feature_importance(feature_importances_df, filepath_png, setting_name, ablation_name)\n",
    "    "
   ]
  },
  {
   "cell_type": "code",
   "execution_count": 38,
   "id": "7e3840ba",
   "metadata": {},
   "outputs": [
    {
     "name": "stderr",
     "output_type": "stream",
     "text": [
      "c:\\Users\\admin\\AppData\\Local\\Programs\\Python\\Python313\\Lib\\site-packages\\sklearn\\model_selection\\_search.py:317: UserWarning: The total space of parameters 1 is smaller than n_iter=30. Running 1 iterations. For exhaustive searches, use GridSearchCV.\n",
      "  warnings.warn(\n"
     ]
    },
    {
     "name": "stdout",
     "output_type": "stream",
     "text": [
      "Fitting 5 folds for each of 1 candidates, totalling 5 fits\n",
      "39504\n",
      "                  Filename  UQS\n",
      "0      n000150-0003_01.jpg   55\n",
      "1      n000150-0012_01.jpg   63\n",
      "2      n000150-0015_01.jpg   20\n",
      "3      n000150-0020_01.jpg   71\n",
      "4      n000150-0023_02.jpg   25\n",
      "...                    ...  ...\n",
      "39499  n001296-0289_01.jpg   21\n",
      "39500  n001296-0296_01.jpg   56\n",
      "39501  n001296-0301_01.jpg   31\n",
      "39502  n001296-0303_01.jpg   32\n",
      "39503  n001296-0313_01.jpg   19\n",
      "\n",
      "[39504 rows x 2 columns]\n"
     ]
    },
    {
     "data": {
      "text/plain": [
       "<Figure size 1200x600 with 0 Axes>"
      ]
     },
     "metadata": {},
     "output_type": "display_data"
    }
   ],
   "source": [
    "for setting_name, rs_grid in randomized_search_grids_dictionary.items():\n",
    "    search_result = search_grid_and_save_model_and_results(rs_grid, random_forest_regressor, X_train, y_train, 5, setting_name, ablation_name)\n",
    "    evaluate_model(search_result.best_estimator_, X_test, y_test, setting_name, ablation_name)\n",
    "    predict_UQS_and_save(search_result.best_estimator_, X_test, setting_name, test_set_filenames_df, ablation_name)\n",
    "    save_feature_importances(search_result.best_estimator_, full_dataset_df.drop(columns=['UnifiedQualityScore.scalar']).columns, setting_name, ablation_name)\n",
    "    \n",
    "\n"
   ]
  }
 ],
 "metadata": {
  "kernelspec": {
   "display_name": "Python 3",
   "language": "python",
   "name": "python3"
  },
  "language_info": {
   "codemirror_mode": {
    "name": "ipython",
    "version": 3
   },
   "file_extension": ".py",
   "mimetype": "text/x-python",
   "name": "python",
   "nbconvert_exporter": "python",
   "pygments_lexer": "ipython3",
   "version": "3.13.0"
  },
  "papermill": {
   "default_parameters": {},
   "duration": 2241.968849,
   "end_time": "2023-10-29T16:07:33.373918",
   "environment_variables": {},
   "exception": null,
   "input_path": "__notebook__.ipynb",
   "output_path": "__notebook__.ipynb",
   "parameters": {},
   "start_time": "2023-10-29T15:30:11.405069",
   "version": "2.4.0"
  }
 },
 "nbformat": 4,
 "nbformat_minor": 5
}
